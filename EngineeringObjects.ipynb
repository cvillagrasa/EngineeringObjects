{
  "nbformat": 4,
  "nbformat_minor": 0,
  "metadata": {
    "colab": {
      "name": "EngineeringObjects.ipynb",
      "provenance": [],
      "collapsed_sections": [
        "HRYvGZ1o8ett",
        "3NdKpoPfBHO6",
        "Q6Wp6h8zAEtR"
      ],
      "include_colab_link": true
    },
    "kernelspec": {
      "name": "python3",
      "display_name": "Python 3"
    },
    "language_info": {
      "name": "python"
    }
  },
  "cells": [
    {
      "cell_type": "markdown",
      "metadata": {
        "id": "view-in-github",
        "colab_type": "text"
      },
      "source": [
        "<a href=\"https://colab.research.google.com/github/cvillagrasa/EngineeringObjects/blob/main/EngineeringObjects.ipynb\" target=\"_parent\"><img src=\"https://colab.research.google.com/assets/colab-badge.svg\" alt=\"Open In Colab\"/></a>"
      ]
    },
    {
      "cell_type": "markdown",
      "metadata": {
        "id": "gxlEZA4tBB6P"
      },
      "source": [
        "The following notebook defines a simple *EngineeringObject* class, which attempts to **bridge the gap** between a **classical engineering** workflow using spreadsheets and more **modern approaches** using **Python**.\n",
        "\n",
        "Despite having many drawbacks, one of the advantages of the classical approach is that spreadsheets allow for easy formatting. Hence, they encourage to copy tables (either input data or results) directly to technical reports, which makes them convenient. This is a straightforward process which many engineers are currently used to. On the other hand, producing usable output from a Python script or notebook can seem difficult at first.\n",
        "\n",
        "With the *EngineeringObject* class, enriched variables can be used to produce formatted output directly usable in technical reports.These variables include a value, a $\\LaTeX$ name, the units in which the value is expressed and a description.\n",
        "\n",
        "Therefore, **Python, with all its benefits, can be more easily used for engineering calculations**.\n",
        "\n",
        "Made available under the [Creative Commons license](https://creativecommons.org/licenses/by/4.0/)\n",
        "\n",
        "More info on why Python is preferrable over classical spreadsheets for engineering:\n",
        "\n",
        "[https://mclare.blog/posts/why-structural-engineers-use-excel](https://mclare.blog/posts/why-structural-engineers-use-excel)"
      ]
    },
    {
      "cell_type": "markdown",
      "metadata": {
        "id": "HRYvGZ1o8ett"
      },
      "source": [
        "#Imports"
      ]
    },
    {
      "cell_type": "code",
      "metadata": {
        "id": "7QceUizgtsOV"
      },
      "source": [
        "from dataclasses import dataclass, field, fields, _MISSING_TYPE\n",
        "import numpy as np\n",
        "import pandas as pd\n",
        "import matplotlib\n",
        "import matplotlib.pyplot as plt\n",
        "from matplotlib.font_manager import FontProperties\n",
        "matplotlib.rcParams['text.usetex'] = True\n",
        "%matplotlib inline"
      ],
      "execution_count": 1,
      "outputs": []
    },
    {
      "cell_type": "code",
      "metadata": {
        "id": "7MOKRl4G_RYs"
      },
      "source": [
        "# For LaTeX viz within DataFrames (lasts for some minutes)\n",
        "!apt install texlive-fonts-recommended texlive-fonts-extra cm-super dvipng"
      ],
      "execution_count": null,
      "outputs": []
    },
    {
      "cell_type": "markdown",
      "metadata": {
        "id": "3NdKpoPfBHO6"
      },
      "source": [
        "#Auxiliary functions"
      ]
    },
    {
      "cell_type": "code",
      "metadata": {
        "id": "cmh9EUiNuoQW"
      },
      "source": [
        "def df2fig(df, col_width=3., row_height=2/3, font_size=14, \n",
        "           header_color='#21588c', row_colors=['#f1f1f2', 'w'], \n",
        "           edge_color='#102B44', bbox=[0, 0, 1, 1], header_columns=0, \n",
        "           colWidths=False, with_index=False, custom_colors=False, \n",
        "           custom_alignments=False, custom_paddings=False, ax=None, **kwargs):\n",
        "  '''Produces a matplotlib figure from a DataFrame'''\n",
        "  created = False\n",
        "  if ax is None:\n",
        "    created = True\n",
        "    size = (np.array(df.shape[::-1]) + np.array([0, 1])) * np.array(\n",
        "        [col_width, row_height])\n",
        "    fig, ax = plt.subplots(figsize=size)\n",
        "  ax.axis('off')\n",
        "  df_ = df.reset_index(level=0) if with_index else df.copy()\n",
        "\n",
        "  mpl_args = {\n",
        "    'cellText': df_.values, \n",
        "    'bbox': bbox, \n",
        "    'colLabels': df_.columns, \n",
        "    'rowLoc': 'center', \n",
        "    'colLoc': 'center', \n",
        "    'cellLoc':'center'\n",
        "  }\n",
        "  \n",
        "  if colWidths:\n",
        "    mpl_args.update({'colWidths': colWidths})\n",
        "  \n",
        "  mpl_table = ax.table(**mpl_args, **kwargs)\n",
        "  mpl_table.auto_set_font_size(False)\n",
        "  mpl_table.set_fontsize(font_size)\n",
        "\n",
        "  for k, cell in mpl_table._cells.items():\n",
        "    cell.set_edgecolor(edge_color)\n",
        "    if k[0] == 0 or k[1] < header_columns:\n",
        "      cell.set_text_props(fontweight=1000, fontsize=17, color='w')\n",
        "      cell.set_facecolor(header_color)\n",
        "    else:\n",
        "      cell.set_facecolor(row_colors[k[0] % len(row_colors)])\n",
        "    if custom_alignments:\n",
        "      if k[1] in custom_alignments.keys():\n",
        "        cell._loc = custom_alignments[k[1]]\n",
        "    if custom_paddings:\n",
        "      if k[1] in custom_paddings.keys():\n",
        "        cell.PAD = custom_paddings[k[1]]  \n",
        "  if custom_colors: #usage -> custom_colors={(i, j): '#33d443'\n",
        "    for cell, color in custom_colors.items():\n",
        "      mpl_table._cells[(*cell,)].set_facecolor(color)\n",
        "\n",
        "  if created:\n",
        "    plt.close()\n",
        "    return fig\n",
        "  else:\n",
        "    return ax.get_figure()\n",
        "\n",
        "def dfs2fig(dfs, col_width=2., row_height=2/3, padding=2., **kwargs):\n",
        "  '''Produces a multicolumn matplotlib figure from a list DataFrame list'''\n",
        "  size = (np.array(dfs[0].shape[::-1]) + np.array([0, 1])) * np.array(\n",
        "      [col_width, row_height])\n",
        "  size[0] = len(dfs) * size[0] + (len(dfs) - 1) * padding\n",
        "  fig, axes = plt.subplots(1, len(dfs), figsize=size)\n",
        "  for idx, df in enumerate(dfs):\n",
        "    df2fig(df, ax=axes[idx])\n",
        "  axes[-1].set_aspect(axes[0].bbox.height / axes[0].bbox.width * \n",
        "                      dfs[-1].shape[0] / dfs[0].shape[0], anchor='N')\n",
        "  plt.close()\n",
        "  return fig"
      ],
      "execution_count": 3,
      "outputs": []
    },
    {
      "cell_type": "markdown",
      "metadata": {
        "id": "Q6Wp6h8zAEtR"
      },
      "source": [
        "#Engineering Objects"
      ]
    },
    {
      "cell_type": "code",
      "metadata": {
        "id": "CAp4JTeGAWyS"
      },
      "source": [
        "@dataclass\n",
        "class DefaultValue:\n",
        "  value: any\n",
        "\n",
        "  def __repr__(self):\n",
        "    return self.value.__repr__()\n",
        "\n",
        "@dataclass\n",
        "class EnrichedDefaultAttribute:\n",
        "  def __post_init__(self):\n",
        "    for field in fields(self):\n",
        "      field_value = getattr(self, field.name)\n",
        "      default, factory = False, False\n",
        "      if isinstance(field.default, DefaultValue) or (\n",
        "        isinstance(field.default, EnrichedVariable)):\n",
        "        default = True\n",
        "      elif not isinstance(field.default_factory, _MISSING_TYPE):\n",
        "        if isinstance(field.default_factory(), DefaultValue) or (\n",
        "        isinstance(field.default_factory(), EnrichedVariable)):\n",
        "          factory = True\n",
        "      if default or factory:\n",
        "        enriched_value = field.default_factory().value if factory else (\n",
        "            field.default.value)\n",
        "        if not isinstance(field_value, DefaultValue) and (\n",
        "            not (isinstance(field.default, _MISSING_TYPE) and\n",
        "                 isinstance(field.default_factory, _MISSING_TYPE))):\n",
        "          enriched_value.value = field_value\n",
        "          setattr(self, field.name, enriched_value)\n",
        "        field_value = getattr(self, field.name)\n",
        "        if isinstance(field_value, DefaultValue):\n",
        "          setattr(self, field.name, enriched_value)\n",
        "\n",
        "@dataclass\n",
        "class EnrichedVariable:\n",
        "  value: any\n",
        "  units: str\n",
        "  description: str\n",
        "  latex: str = ''\n",
        "\n",
        "@dataclass\n",
        "class EnrichedFloat(EnrichedVariable):\n",
        "  value: np.float64\n",
        "  precision: np.int16 = 0\n",
        "\n",
        "  def __repr__(self):\n",
        "    return (\n",
        "        self.description + ': ' + f'{self.value:0,.{self.precision}f}' + ' ' + \n",
        "        self.units\n",
        "    )\n",
        "\n",
        "@dataclass\n",
        "class EnrichedString(EnrichedVariable):\n",
        "  value: str\n",
        "\n",
        "  def __repr__(self):\n",
        "    return (self.description + ': ' + self.value)      "
      ],
      "execution_count": 4,
      "outputs": []
    },
    {
      "cell_type": "code",
      "metadata": {
        "id": "Gv0gnM70-bmp"
      },
      "source": [
        "class EngineeringObject(EnrichedDefaultAttribute):\n",
        "  def __getitem__(self, item):\n",
        "    item = EnrichedDefaultAttribute.__getattribute__(self, item).value\n",
        "    return item.value if hasattr(item, 'value') else item\n",
        "  \n",
        "  def __setattr__(self, name, value):    \n",
        "    if name not in self.__dict__.keys():\n",
        "      super().__setattr__(name, value)\n",
        "    else:\n",
        "      curr_attr = getattr(self, name)\n",
        "      if isinstance(curr_attr, EnrichedVariable):\n",
        "        curr_attr.value = value\n",
        "        super().__setattr__(name, curr_attr)\n",
        "      else:\n",
        "        super().__setattr__(name, value)\n",
        "  \n",
        "  @property\n",
        "  def df(self):\n",
        "    params, units, values, desc = [[] for i in range(4)]\n",
        "    for field in fields(self):\n",
        "      if isinstance(getattr(self, field.name), EnrichedVariable):\n",
        "        enriched_value = getattr(self, field.name)\n",
        "        params.append(f'$${enriched_value.latex}$$')\n",
        "        units.append(f'$${enriched_value.units}$$')\n",
        "        if isinstance(enriched_value.value, str):\n",
        "          values.append(enriched_value.value)          \n",
        "        else:\n",
        "          values.append(f'{enriched_value.value:0,.{enriched_value.precision}f}')\n",
        "        desc.append(enriched_value.description)\n",
        "\n",
        "    return pd.DataFrame({\n",
        "        'Parameter': params,\n",
        "        'Units': units,\n",
        "        'Value': values,\n",
        "        'Description': desc\n",
        "    })\n",
        "  \n",
        "  def print(self, **kwargs):\n",
        "    return df2fig(self.df, colWidths=[0.135, 0.135, 0.11, 0.9], \n",
        "                  custom_alignments={3: 'left'}, custom_paddings={3: .04}, \n",
        "                  **kwargs)"
      ],
      "execution_count": 5,
      "outputs": []
    },
    {
      "cell_type": "code",
      "metadata": {
        "id": "lqbfcb4SIo0u"
      },
      "source": [
        "def def_float(*args, **kwargs):\n",
        "  return DefaultValue(EnrichedFloat(*args, **kwargs))\n",
        "\n",
        "def def_string(*args, **kwargs):\n",
        "  return DefaultValue(EnrichedString(*args, **kwargs))\n",
        "\n",
        "def df_float(*args, **kwargs):\n",
        "  return field(default_factory=lambda: def_float(*args, **kwargs))\n",
        "\n",
        "def df_string(*args, **kwargs):\n",
        "  return field(default_factory=lambda: def_string(*args, **kwargs))"
      ],
      "execution_count": 6,
      "outputs": []
    },
    {
      "cell_type": "markdown",
      "metadata": {
        "id": "Io9NG-MiJsGt"
      },
      "source": [
        "#Example of usage"
      ]
    },
    {
      "cell_type": "code",
      "metadata": {
        "id": "E-_YvrDLJ2WA"
      },
      "source": [
        "@dataclass\n",
        "class BeamCrossSection(EngineeringObject):\n",
        "  w: EnrichedFloat = df_float(0, 'm', 'Width', 'w', 3)\n",
        "  h: EnrichedFloat = df_float(0, 'm', 'Height', 'h', 3)\n",
        "  i22: EnrichedFloat = df_float(0, 'm^4', 'Moment of inertia (y axis)', 'I_{22}', 6)\n",
        "  i33: EnrichedFloat = df_float(0, 'm^4', 'Moment of inertia (x axis)', 'I_{33}', 6)\n",
        "  M2: EnrichedFloat = df_float(0, 'kNm', 'Bending moment (x axis)', 'M_2')\n",
        "  M3: EnrichedFloat = df_float(0, 'kNm', 'Bending moment (y axis)', 'M_3')\n",
        "  max_tension_x: EnrichedFloat = df_float(-1, 'MPa', 'Maximum tension (x axis)', '\\sigma_{x, max}')\n",
        "  max_tension_y: EnrichedFloat = df_float(-1, 'MPa', 'Maximum tension (y axis)', '\\sigma_{y, max}')\n",
        "\n",
        "  def __post_init__(self):\n",
        "    super().__post_init__()\n",
        "    self.max_tension_x = self.get_max_tension_x()\n",
        "    self.max_tension_y = self.get_max_tension_y()\n",
        "\n",
        "  def get_max_tension_x(self):\n",
        "    return self['M2'] / self['i22'] * self['w'] / 2 / 10 ** 3\n",
        "\n",
        "  def get_max_tension_y(self):\n",
        "    return self['M3'] / self['i33'] * self['h'] / 2 / 10 ** 3\n",
        "\n"
      ],
      "execution_count": 14,
      "outputs": []
    },
    {
      "cell_type": "code",
      "metadata": {
        "id": "Q3MgB_WSPTXO"
      },
      "source": [
        "one_beam = BeamCrossSection(w=0.4, h=0.75, i22=0.0001, i33=0.0001, M2=100, M3=100)"
      ],
      "execution_count": 15,
      "outputs": []
    },
    {
      "cell_type": "code",
      "metadata": {
        "colab": {
          "base_uri": "https://localhost:8080/",
          "height": 357
        },
        "id": "RYh_OmSxQQpt",
        "outputId": "f6e4d82e-0f70-4fa6-e2e0-9235b215cd0d"
      },
      "source": [
        "one_beam.print()"
      ],
      "execution_count": 16,
      "outputs": [
        {
          "output_type": "execute_result",
          "data": {
            "image/png": "[encoded data removed]",
            "text/plain": [
              "<Figure size 864x432 with 1 Axes>"
            ]
          },
          "metadata": {
            "tags": []
          },
          "execution_count": 16
        }
      ]
    }
  ]
}